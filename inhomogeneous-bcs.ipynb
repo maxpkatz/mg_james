{
 "metadata": {
  "name": "inhomogeneous-bcs"
 },
 "nbformat": 3,
 "nbformat_minor": 0,
 "worksheets": [
  {
   "cells": [
    {
     "cell_type": "code",
     "collapsed": false,
     "input": [
      "%pylab inline"
     ],
     "language": "python",
     "metadata": {},
     "outputs": [
      {
       "output_type": "stream",
       "stream": "stdout",
       "text": [
        "\n",
        "Welcome to pylab, a matplotlib-based Python environment [backend: module://IPython.zmq.pylab.backend_inline].\n",
        "For more information, type 'help(pylab)'.\n"
       ]
      }
     ],
     "prompt_number": 1
    },
    {
     "cell_type": "code",
     "collapsed": false,
     "input": [
      "from sympy import init_session\n",
      "init_session()"
     ],
     "language": "python",
     "metadata": {},
     "outputs": [
      {
       "output_type": "stream",
       "stream": "stdout",
       "text": [
        "\n",
        "Welcome to pylab, a matplotlib-based Python environment [backend: module://IPython.zmq.pylab.backend_inline].\n",
        "For more information, type 'help(pylab)'.\n"
       ]
      },
      {
       "output_type": "stream",
       "stream": "stdout",
       "text": [
        "IPython console for SymPy 0.7.5 (Python 2.7.5-64-bit) (ground types: python)\n",
        "\n",
        "These commands were executed:\n",
        ">>> from __future__ import division\n",
        ">>> from sympy import *\n",
        ">>> x, y, z, t = symbols('x y z t')\n",
        ">>> k, m, n = symbols('k m n', integer=True)\n",
        ">>> f, g, h = symbols('f g h', cls=Function)\n",
        "\n",
        "Documentation can be found at http://www.sympy.org\n"
       ]
      }
     ],
     "prompt_number": 2
    },
    {
     "cell_type": "raw",
     "metadata": {},
     "source": [
      "This is our exact solution, defined on [0,1]x[0,1]x[0,1]"
     ]
    },
    {
     "cell_type": "code",
     "collapsed": false,
     "input": [
      "phi = (cos(pi*x) + cos(pi*y) + cos(pi*z))*(1-x)*(1-y)*(1-z)\n",
      "phi"
     ],
     "language": "python",
     "metadata": {},
     "outputs": [
      {
       "latex": [
        "$$\\left(- x + 1\\right) \\left(- y + 1\\right) \\left(- z + 1\\right) \\left(\\cos{\\left (\\pi x \\right )} + \\cos{\\left (\\pi y \\right )} + \\cos{\\left (\\pi z \\right )}\\right)$$"
       ],
       "output_type": "pyout",
       "png": "[encoded data removed]",
       "prompt_number": 25,
       "text": [
        "(-x + 1)\u22c5(-y + 1)\u22c5(-z + 1)\u22c5(cos(\u03c0\u22c5x) + cos(\u03c0\u22c5y) + cos(\u03c0\u22c5z))"
       ]
      }
     ],
     "prompt_number": 25
    },
    {
     "cell_type": "raw",
     "metadata": {},
     "source": [
      "Generate the RHS of our Poisson problem by differentiating"
     ]
    },
    {
     "cell_type": "code",
     "collapsed": false,
     "input": [
      "f = diff(phi, x, 2) + diff(phi, y, 2) + diff(phi, z, 2)\n",
      "f"
     ],
     "language": "python",
     "metadata": {},
     "outputs": [
      {
       "latex": [
        "$$\\pi \\left(x - 1\\right) \\left(y - 1\\right) \\left(\\pi \\left(z - 1\\right) \\cos{\\left (\\pi z \\right )} + 2 \\sin{\\left (\\pi z \\right )}\\right) + \\pi \\left(x - 1\\right) \\left(z - 1\\right) \\left(\\pi \\left(y - 1\\right) \\cos{\\left (\\pi y \\right )} + 2 \\sin{\\left (\\pi y \\right )}\\right) + \\pi \\left(y - 1\\right) \\left(z - 1\\right) \\left(\\pi \\left(x - 1\\right) \\cos{\\left (\\pi x \\right )} + 2 \\sin{\\left (\\pi x \\right )}\\right)$$"
       ],
       "output_type": "pyout",
       "png": "[encoded data removed]",
       "prompt_number": 16,
       "text": [
        "\u03c0\u22c5(x - 1)\u22c5(y - 1)\u22c5(\u03c0\u22c5(z - 1)\u22c5cos(\u03c0\u22c5z) + 2\u22c5sin(\u03c0\u22c5z)) + \u03c0\u22c5(x - 1)\u22c5(z - 1)\u22c5(\u03c0\u22c5(y \n",
        "- 1)\u22c5cos(\u03c0\u22c5y) + 2\u22c5sin(\u03c0\u22c5y)) + \u03c0\u22c5(y - 1)\u22c5(z - 1)\u22c5(\u03c0\u22c5(x - 1)\u22c5cos(\u03c0\u22c5x) + 2\u22c5sin(\u03c0\u22c5\n",
        "x))"
       ]
      }
     ],
     "prompt_number": 16
    },
    {
     "cell_type": "code",
     "collapsed": false,
     "input": [
      "print(f)"
     ],
     "language": "python",
     "metadata": {},
     "outputs": [
      {
       "output_type": "stream",
       "stream": "stdout",
       "text": [
        "pi*(x - 1)*(y - 1)*(pi*(z - 1)*cos(pi*z) + 2*sin(pi*z)) + pi*(x - 1)*(z - 1)*(pi*(y - 1)*cos(pi*y) + 2*sin(pi*y)) + pi*(y - 1)*(z - 1)*(pi*(x - 1)*cos(pi*x) + 2*sin(pi*x))\n"
       ]
      }
     ],
     "prompt_number": 24
    },
    {
     "cell_type": "raw",
     "metadata": {},
     "source": [
      "boundary conditions"
     ]
    },
    {
     "cell_type": "raw",
     "metadata": {},
     "source": [
      "x = 0"
     ]
    },
    {
     "cell_type": "code",
     "collapsed": false,
     "input": [
      "xl = phi.subs(x, 0)\n",
      "xl"
     ],
     "language": "python",
     "metadata": {},
     "outputs": [
      {
       "latex": [
        "$$\\left(- y + 1\\right) \\left(- z + 1\\right) \\left(\\cos{\\left (\\pi y \\right )} + \\cos{\\left (\\pi z \\right )} + 1\\right)$$"
       ],
       "output_type": "pyout",
       "png": "[encoded data removed]",
       "prompt_number": 27,
       "text": [
        "(-y + 1)\u22c5(-z + 1)\u22c5(cos(\u03c0\u22c5y) + cos(\u03c0\u22c5z) + 1)"
       ]
      }
     ],
     "prompt_number": 27
    },
    {
     "cell_type": "code",
     "collapsed": false,
     "input": [
      "print(xl)"
     ],
     "language": "python",
     "metadata": {},
     "outputs": [
      {
       "output_type": "stream",
       "stream": "stdout",
       "text": [
        "(-y + 1)*(-z + 1)*(cos(pi*y) + cos(pi*z) + 1)\n"
       ]
      }
     ],
     "prompt_number": 28
    },
    {
     "cell_type": "raw",
     "metadata": {},
     "source": [
      "x = 1"
     ]
    },
    {
     "cell_type": "code",
     "collapsed": false,
     "input": [
      "phi.subs(x, 1)"
     ],
     "language": "python",
     "metadata": {},
     "outputs": [
      {
       "latex": [
        "$$0$$"
       ],
       "output_type": "pyout",
       "png": "[encoded data removed]",
       "prompt_number": 19,
       "text": [
        "0"
       ]
      }
     ],
     "prompt_number": 19
    },
    {
     "cell_type": "raw",
     "metadata": {},
     "source": [
      "y = 0"
     ]
    },
    {
     "cell_type": "code",
     "collapsed": false,
     "input": [
      "yl = phi.subs(y, 0)\n",
      "yl"
     ],
     "language": "python",
     "metadata": {},
     "outputs": [
      {
       "latex": [
        "$$\\left(- x + 1\\right) \\left(- z + 1\\right) \\left(\\cos{\\left (\\pi x \\right )} + \\cos{\\left (\\pi z \\right )} + 1\\right)$$"
       ],
       "output_type": "pyout",
       "png": "[encoded data removed]",
       "prompt_number": 29,
       "text": [
        "(-x + 1)\u22c5(-z + 1)\u22c5(cos(\u03c0\u22c5x) + cos(\u03c0\u22c5z) + 1)"
       ]
      }
     ],
     "prompt_number": 29
    },
    {
     "cell_type": "code",
     "collapsed": false,
     "input": [
      "print(yl)"
     ],
     "language": "python",
     "metadata": {},
     "outputs": [
      {
       "output_type": "stream",
       "stream": "stdout",
       "text": [
        "(-x + 1)*(-z + 1)*(cos(pi*x) + cos(pi*z) + 1)\n"
       ]
      }
     ],
     "prompt_number": 30
    },
    {
     "cell_type": "raw",
     "metadata": {},
     "source": [
      "y = 1"
     ]
    },
    {
     "cell_type": "code",
     "collapsed": false,
     "input": [
      "phi.subs(y, 1)"
     ],
     "language": "python",
     "metadata": {},
     "outputs": [
      {
       "latex": [
        "$$0$$"
       ],
       "output_type": "pyout",
       "png": "[encoded data removed]",
       "prompt_number": 21,
       "text": [
        "0"
       ]
      }
     ],
     "prompt_number": 21
    },
    {
     "cell_type": "raw",
     "metadata": {},
     "source": [
      "z = 0"
     ]
    },
    {
     "cell_type": "code",
     "collapsed": false,
     "input": [
      "zl = phi.subs(z, 0)\n",
      "zl"
     ],
     "language": "python",
     "metadata": {},
     "outputs": [
      {
       "latex": [
        "$$\\left(- x + 1\\right) \\left(- y + 1\\right) \\left(\\cos{\\left (\\pi x \\right )} + \\cos{\\left (\\pi y \\right )} + 1\\right)$$"
       ],
       "output_type": "pyout",
       "png": "[encoded data removed]",
       "prompt_number": 31,
       "text": [
        "(-x + 1)\u22c5(-y + 1)\u22c5(cos(\u03c0\u22c5x) + cos(\u03c0\u22c5y) + 1)"
       ]
      }
     ],
     "prompt_number": 31
    },
    {
     "cell_type": "code",
     "collapsed": false,
     "input": [
      "print(zl)"
     ],
     "language": "python",
     "metadata": {},
     "outputs": [
      {
       "output_type": "stream",
       "stream": "stdout",
       "text": [
        "(-x + 1)*(-y + 1)*(cos(pi*x) + cos(pi*y) + 1)\n"
       ]
      }
     ],
     "prompt_number": 32
    },
    {
     "cell_type": "raw",
     "metadata": {},
     "source": [
      "z = 1"
     ]
    },
    {
     "cell_type": "code",
     "collapsed": false,
     "input": [
      "phi.subs(z, 1)"
     ],
     "language": "python",
     "metadata": {},
     "outputs": [
      {
       "latex": [
        "$$0$$"
       ],
       "output_type": "pyout",
       "png": "[encoded data removed]",
       "prompt_number": 23,
       "text": [
        "0"
       ]
      }
     ],
     "prompt_number": 23
    },
    {
     "cell_type": "code",
     "collapsed": false,
     "input": [],
     "language": "python",
     "metadata": {},
     "outputs": []
    }
   ],
   "metadata": {}
  }
 ]
}